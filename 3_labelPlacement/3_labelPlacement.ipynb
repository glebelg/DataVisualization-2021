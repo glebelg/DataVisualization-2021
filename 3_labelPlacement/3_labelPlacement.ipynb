{
  "nbformat": 4,
  "nbformat_minor": 0,
  "metadata": {
    "colab": {
      "name": "3_labelPlacement",
      "provenance": [],
      "collapsed_sections": []
    },
    "kernelspec": {
      "name": "python3",
      "display_name": "Python 3"
    },
    "language_info": {
      "name": "python"
    }
  },
  "cells": [
    {
      "cell_type": "markdown",
      "metadata": {
        "id": "XxK7ho3uLzUw"
      },
      "source": [
        "# Label Placement"
      ]
    },
    {
      "cell_type": "code",
      "metadata": {
        "id": "9ffcyjn2EhWI"
      },
      "source": [
        "import numpy as np\n",
        "import pandas as pd\n",
        "\n",
        "import matplotlib.pyplot as plt\n",
        "from matplotlib.patches import Rectangle\n",
        "\n",
        "from IPython.display import clear_output"
      ],
      "execution_count": null,
      "outputs": []
    },
    {
      "cell_type": "markdown",
      "metadata": {
        "id": "AZeKpx65MOZn"
      },
      "source": [
        "Загрузим несколько наборов точек, где каждой точке соответствует 2 варианта расположения подписи, и парсер файлов"
      ]
    },
    {
      "cell_type": "code",
      "metadata": {
        "id": "uqDENaElS5J7"
      },
      "source": [
        "! wget https://github.com/glebelg/DataVisualization-2021/raw/main/3_labelPlacement/bin1.txt\n",
        "! wget https://github.com/glebelg/DataVisualization-2021/raw/main/3_labelPlacement/bin2.txt\n",
        "! wget https://github.com/glebelg/DataVisualization-2021/raw/main/3_labelPlacement/bin3.txt\n",
        "! wget https://github.com/glebelg/DataVisualization-2021/raw/main/3_labelPlacement/boxes_parse.py\n",
        "\n",
        "clear_output()"
      ],
      "execution_count": null,
      "outputs": []
    },
    {
      "cell_type": "code",
      "metadata": {
        "id": "YBnieqhfh6Yx"
      },
      "source": [
        "from boxes_parse import Box, Pos"
      ],
      "execution_count": null,
      "outputs": []
    },
    {
      "cell_type": "markdown",
      "metadata": {
        "id": "TpZRNyeR3pji"
      },
      "source": [
        "Реализуем основные функции для расчета размещения подписей и их отрисовки на координатной плоскости"
      ]
    },
    {
      "cell_type": "code",
      "metadata": {
        "id": "1HKCAB93EdQ3"
      },
      "source": [
        "def intersection(x1, y1, w1, h1, x2, y2, w2, h2):\n",
        "    w1 += x1\n",
        "    h1 += y1\n",
        "    w2 += x2\n",
        "    h2 += y2\n",
        "\n",
        "    s1 = (x1 >= x2 and x1 <= w2) or (w1 >= x2 and w1 <= w2)\n",
        "    s2 = (y1 >= y2 and y1 <= h2) or (h1 >= y2 and h1 <= h2)\n",
        "    s3 = (x2 >= x1 and x2 <= w1) or (w2 >= x1 and w2 <= w1)\n",
        "    s4 = (y2 >= y1 and y2 <= h1) or (h2 >= y1 and h2 <= h1)\n",
        "\n",
        "    return ((s1 and s2) or (s3 and s4)) or ((s1 and s4) or (s3 and s2))\n",
        "\n",
        "\n",
        "def get_conjunctions(boxes):\n",
        "    conjunctions = []\n",
        "\n",
        "    for i in range(1, len(boxes) + 1):\n",
        "        box1 = boxes[i - 1]\n",
        "        pos1_0 = box1.pos - box1.offsets[0]\n",
        "        pos1_1 = box1.pos - box1.offsets[1]\n",
        "\n",
        "        for j in range(i + 1, len(boxes) + 1):\n",
        "            box2 = boxes[j - 1]\n",
        "            pos2_0 = box2.pos - box2.offsets[0]\n",
        "            pos2_1 = box2.pos - box2.offsets[1]\n",
        "\n",
        "            truth_table = np.array([[intersection(*pos1_0, *box1.size.xy, *pos2_0, *box2.size.xy),\n",
        "                                     intersection(*pos1_0, *box1.size.xy, *pos2_1, *box2.size.xy)],\n",
        "                                    [intersection(*pos1_1, *box1.size.xy, *pos2_0, *box2.size.xy),\n",
        "                                     intersection(*pos1_1, *box1.size.xy, *pos2_1, *box2.size.xy)]])\n",
        "\n",
        "            if  truth_table[0][0]:\n",
        "                conjunctions.append([-i, -j])\n",
        "            if  truth_table[0][1]:\n",
        "                conjunctions.append([-i, j])\n",
        "            if  truth_table[1][0]:\n",
        "                conjunctions.append([i, -j])\n",
        "            if  truth_table[1][1]:\n",
        "                conjunctions.append([i, j])\n",
        "\n",
        "    return conjunctions"
      ],
      "execution_count": null,
      "outputs": []
    },
    {
      "cell_type": "code",
      "metadata": {
        "id": "JL_0irZUYjep"
      },
      "source": [
        "class TwoSAT:\n",
        "    def dfs1(self, v):\n",
        "        self.used[v] = 1;\n",
        "        for to in self.g[v]:\n",
        "            if not self.used[to]:\n",
        "                self.dfs1(to)\n",
        "        self.order.append(v)\n",
        "\n",
        "\n",
        "    def dfs2(self, v, c):\n",
        "        self.tmp[v] = c\n",
        "        for to in self.gr[v]:\n",
        "            if self.tmp[to] == -1:\n",
        "                self.dfs2(to, c)\n",
        "\n",
        "\n",
        "    def build_implication_graph(self, n):\n",
        "        self.g = [[] for _ in range(2 * n)]\n",
        "        self.gr = [[] for _ in range(2 * n)]\n",
        "\n",
        "        for a, b in self.conjunctions:\n",
        "            a = 2 * a - 2 if a >= 0 else 2 * (-a) - 1\n",
        "            b = 2 * b - 2 if b >= 0 else 2 * (-b) - 1\n",
        "            \n",
        "            self.g[a^1].append(b)\n",
        "            self.g[b^1].append(a)\n",
        "            self.gr[b].append(a^1)\n",
        "            self.gr[a].append(b^1)\n",
        "\n",
        "\n",
        "    def solve(self, boxes, conjunctions):\n",
        "        self.boxes = boxes\n",
        "        self.conjunctions = conjunctions\n",
        "        self.order = []\n",
        "        \n",
        "        n = len(boxes)\n",
        "        self.build_implication_graph(n)\n",
        "\n",
        "        self.used = [0] * 2 * n\n",
        "        for i in range(2 * n):\n",
        "            if not self.used[i]:\n",
        "                self.dfs1(i)\n",
        "\n",
        "        c = 0\n",
        "        self.tmp = [-1] * 2 * n\n",
        "        for i in range(2 * n):\n",
        "            v = self.order[2 * n - i - 1]\n",
        "            if self.tmp[v] == -1:\n",
        "                self.dfs2(v, c)\n",
        "                c += 1\n",
        "\n",
        "        placement = [0] * n\n",
        "        for i in range(0, 2 * n, 2):\n",
        "            if self.tmp[i] == self.tmp[i^1]:\n",
        "                print('NO SOLUTION')\n",
        "                return \n",
        "            placement[i // 2] = int(self.tmp[i] < self.tmp[i^1])\n",
        "\n",
        "        return placement"
      ],
      "execution_count": null,
      "outputs": []
    },
    {
      "cell_type": "code",
      "metadata": {
        "id": "a1SgnHesmM7O"
      },
      "source": [
        "def get_boxes(file_path):\n",
        "    raw_data = open(file_path).read()\n",
        "    return [Box(line) for line in raw_data.strip().split('\\n')]\n",
        "\n",
        "\n",
        "def get_placement(boxes):\n",
        "    conjunctions = get_conjunctions(boxes)\n",
        "    placement = TwoSAT().solve(boxes, conjunctions)\n",
        "    return placement"
      ],
      "execution_count": null,
      "outputs": []
    },
    {
      "cell_type": "code",
      "metadata": {
        "id": "CSgk5t-kQ9nF"
      },
      "source": [
        "def draw_all_labels(boxes):\n",
        "    print('Все возможные варианты расположения подписей:')\n",
        "\n",
        "    fig = plt.figure(figsize=(10, 10))\n",
        "    ax = fig.add_subplot(111)\n",
        "\n",
        "    for box in boxes:\n",
        "        rect1 = Rectangle(box.pos - box.offsets[0],\n",
        "                        box.size.xy[0],\n",
        "                        box.size.xy[1],\n",
        "                        fill=False,\n",
        "                        color ='green')\n",
        "\n",
        "        rect2 = Rectangle(box.pos - box.offsets[1],\n",
        "                        box.size.xy[0],\n",
        "                        box.size.xy[1],\n",
        "                        fill=False,\n",
        "                        color ='blue')\n",
        "        \n",
        "        ax.add_patch(rect1)\n",
        "        ax.add_patch(rect2)\n",
        "    \n",
        "    points = np.array([box.pos.xy for box in boxes])\n",
        "    plt.plot(points[:,0], points[:,1], 'or')\n",
        "    plt.show()\n",
        "\n",
        "\n",
        "def draw_non_nonintersecting_labels(boxes, placement):\n",
        "    if placement is None:\n",
        "        print('Нельзя расположить подписи для каждой точки без пересечений!')\n",
        "        return\n",
        "    print('Расположение подписей для каждой точки без пересечений:')\n",
        "\n",
        "    fig = plt.figure(figsize=(10, 10))\n",
        "    ax = fig.add_subplot(111)\n",
        "\n",
        "    for i, box in enumerate(boxes):\n",
        "        rect = Rectangle(box.pos - box.offsets[placement[i]],\n",
        "                        box.size.xy[0],\n",
        "                        box.size.xy[1],\n",
        "                        fill=False,\n",
        "                        color=['green', 'blue'][placement[i]])\n",
        "        \n",
        "        ax.add_patch(rect)\n",
        "\n",
        "    points = np.array([box.pos.xy for box in boxes])\n",
        "    plt.plot(points[:,0], points[:,1], 'or')\n",
        "    plt.show()"
      ],
      "execution_count": null,
      "outputs": []
    },
    {
      "cell_type": "markdown",
      "metadata": {
        "id": "5Qf-x4ytmUlW"
      },
      "source": [
        "Изобразим загруженные данные. Сначала посмотрим на все возможные варианты расположения подписей для каждой точки, далее оставим только непересекающиеся подписи, полученные с помощью алгоритма."
      ]
    },
    {
      "cell_type": "code",
      "metadata": {
        "colab": {
          "base_uri": "https://localhost:8080/",
          "height": 1000
        },
        "id": "O7UjaBBIi1Io",
        "outputId": "aa18f122-3367-4074-856e-5a65e373317b"
      },
      "source": [
        "boxes = get_boxes(file_path='bin1.txt')\n",
        "placement = get_placement(boxes)\n",
        "\n",
        "draw_all_labels(boxes)\n",
        "draw_non_nonintersecting_labels(boxes, placement)"
      ],
      "execution_count": null,
      "outputs": [
        {
          "output_type": "stream",
          "text": [
            "Все возможные варианты расположения подписей:\n"
          ],
          "name": "stdout"
        },
        {
          "output_type": "display_data",
          "data": {
            "image/png": "[encoded data removed]",
            "text/plain": [
              "<Figure size 720x720 with 1 Axes>"
            ]
          },
          "metadata": {
            "tags": [],
            "needs_background": "light"
          }
        },
        {
          "output_type": "stream",
          "text": [
            "Расположение подписей для каждой точки без пересечений:\n"
          ],
          "name": "stdout"
        },
        {
          "output_type": "display_data",
          "data": {
            "image/png": "[encoded data removed]",
            "text/plain": [
              "<Figure size 720x720 with 1 Axes>"
            ]
          },
          "metadata": {
            "tags": [],
            "needs_background": "light"
          }
        }
      ]
    },
    {
      "cell_type": "code",
      "metadata": {
        "colab": {
          "base_uri": "https://localhost:8080/",
          "height": 1000
        },
        "id": "MSwcRPJwqQ74",
        "outputId": "8b78958d-d02a-417e-f845-fd74a45edbb5"
      },
      "source": [
        "boxes = get_boxes(file_path='bin2.txt')\n",
        "placement = get_placement(boxes)\n",
        "\n",
        "draw_all_labels(boxes)\n",
        "draw_non_nonintersecting_labels(boxes, placement)"
      ],
      "execution_count": null,
      "outputs": [
        {
          "output_type": "stream",
          "text": [
            "Все возможные варианты расположения подписей:\n"
          ],
          "name": "stdout"
        },
        {
          "output_type": "display_data",
          "data": {
            "image/png": "[encoded data removed]",
            "text/plain": [
              "<Figure size 720x720 with 1 Axes>"
            ]
          },
          "metadata": {
            "tags": [],
            "needs_background": "light"
          }
        },
        {
          "output_type": "stream",
          "text": [
            "Расположение подписей для каждой точки без пересечений:\n"
          ],
          "name": "stdout"
        },
        {
          "output_type": "display_data",
          "data": {
            "image/png": "[encoded data removed]",
            "text/plain": [
              "<Figure size 720x720 with 1 Axes>"
            ]
          },
          "metadata": {
            "tags": [],
            "needs_background": "light"
          }
        }
      ]
    },
    {
      "cell_type": "code",
      "metadata": {
        "colab": {
          "base_uri": "https://localhost:8080/",
          "height": 1000
        },
        "id": "jMUMe_tNqRAc",
        "outputId": "112cc233-0c9c-4d0d-ebce-36c5895b92f2"
      },
      "source": [
        "boxes = get_boxes(file_path='bin3.txt')\n",
        "placement = get_placement(boxes)\n",
        "\n",
        "draw_all_labels(boxes)\n",
        "draw_non_nonintersecting_labels(boxes, placement)"
      ],
      "execution_count": null,
      "outputs": [
        {
          "output_type": "stream",
          "text": [
            "Все возможные варианты расположения подписей:\n"
          ],
          "name": "stdout"
        },
        {
          "output_type": "display_data",
          "data": {
            "image/png": "[encoded data removed]",
            "text/plain": [
              "<Figure size 720x720 with 1 Axes>"
            ]
          },
          "metadata": {
            "tags": [],
            "needs_background": "light"
          }
        },
        {
          "output_type": "stream",
          "text": [
            "Расположение подписей для каждой точки без пересечений:\n"
          ],
          "name": "stdout"
        },
        {
          "output_type": "display_data",
          "data": {
            "image/png": "[encoded data removed]",
            "text/plain": [
              "<Figure size 720x720 with 1 Axes>"
            ]
          },
          "metadata": {
            "tags": [],
            "needs_background": "light"
          }
        }
      ]
    },
    {
      "cell_type": "code",
      "metadata": {
        "id": "r7lqDZF6qWhF"
      },
      "source": [
        ""
      ],
      "execution_count": null,
      "outputs": []
    }
  ]
}